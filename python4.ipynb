{
 "cells": [
  {
   "cell_type": "markdown",
   "metadata": {},
   "source": [
    "## Bibliotecas:"
   ]
  },
  {
   "cell_type": "code",
   "execution_count": 11,
   "metadata": {
    "collapsed": true
   },
   "outputs": [],
   "source": [
    "import numpy as np"
   ]
  },
  {
   "cell_type": "code",
   "execution_count": 12,
   "metadata": {
    "collapsed": true
   },
   "outputs": [],
   "source": [
    "import matplotlib.pyplot as plt"
   ]
  },
  {
   "cell_type": "code",
   "execution_count": 13,
   "metadata": {
    "collapsed": true
   },
   "outputs": [],
   "source": [
    "%matplotlib inline"
   ]
  },
  {
   "cell_type": "code",
   "execution_count": 14,
   "metadata": {
    "collapsed": true
   },
   "outputs": [],
   "source": [
    "import glob "
   ]
  },
  {
   "cell_type": "markdown",
   "metadata": {},
   "source": [
    "## Fazer uma função que recebe o nome do arquivo de dado como argumento e retorne: a latitude e longitude da estação; o nome da primeira cidade mais próxima da estação de medida "
   ]
  },
  {
   "cell_type": "code",
   "execution_count": 15,
   "metadata": {
    "collapsed": true
   },
   "outputs": [],
   "source": [
    "# Estraindo os arquivos da pasta 'dados'\n",
    "arquivos = glob.glob(\"dados/*.txt\")"
   ]
  },
  {
   "cell_type": "code",
   "execution_count": 16,
   "metadata": {
    "collapsed": false
   },
   "outputs": [
    {
     "name": "stdout",
     "output_type": "stream",
     "text": [
      "['dados\\\\0.80S-49.02W-TAVG-Trend.txt', 'dados\\\\10.45S-48.27W-TAVG-Trend.txt', 'dados\\\\13.66S-38.81W-TAVG-Trend.txt', 'dados\\\\15.27S-47.50W-TAVG-Trend.txt', 'dados\\\\2.41S-60.27W-TAVG-Trend.txt', 'dados\\\\20.09S-44.36W-TAVG-Trend.txt', 'dados\\\\20.09S-54.60W-TAVG-Trend.txt', 'dados\\\\23.31S-42.82W-TAVG-Trend.txt', 'dados\\\\23.31S-46.31W-TAVG-Trend.txt', 'dados\\\\24.92S-49.66W-TAVG-Trend.txt', 'dados\\\\29.74S-51.69W-TAVG-Trend.txt', 'dados\\\\4.02S-40.98W-TAVG-Trend.txt', 'dados\\\\brazil-TAVG-Trend.txt']\n"
     ]
    }
   ],
   "source": [
    "print (arquivos)"
   ]
  },
  {
   "cell_type": "code",
   "execution_count": 17,
   "metadata": {
    "collapsed": true
   },
   "outputs": [],
   "source": [
    "# Definindo uma função para que ela retorne: latitude, longitude e a cidade mais próxima a estação.\n",
    "# \"UTF-8\" possiblita o print de caracteres especiais.\n",
    "# \".split\" possibilita a locomoção das palavras na frase.\n",
    "def localidades (nome):\n",
    "    documento  = open(nome, encoding = \"UTF-8\")\n",
    "    ler = documento.readlines()\n",
    "    lat_long = ler [4] [1:]\n",
    "    cidade_prx = ler [35].split(sep = ',')[0][18:]\n",
    "    \n",
    "    return (lat_long, cidade_prx )"
   ]
  },
  {
   "cell_type": "code",
   "execution_count": 18,
   "metadata": {
    "collapsed": false
   },
   "outputs": [
    {
     "name": "stdout",
     "output_type": "stream",
     "text": [
      "('    0.80 S, 49.02 W\\n', ' Belém')\n"
     ]
    }
   ],
   "source": [
    "#teste\n",
    "cidade = localidades ('./dados/0.80S-49.02W-TAVG-Trend.txt')\n",
    "print (cidade)"
   ]
  },
  {
   "cell_type": "code",
   "execution_count": 19,
   "metadata": {
    "collapsed": false
   },
   "outputs": [
    {
     "name": "stdout",
     "output_type": "stream",
     "text": [
      "('    0.80 S, 49.02 W\\n', ' Belém')\n",
      "('    10.45 S, 48.27 W\\n', ' Palmas')\n",
      "('    13.66 S, 38.81 W\\n', ' Salvador')\n",
      "('    15.27 S, 47.50 W\\n', ' Brasília')\n",
      "('    2.41 S, 60.27 W\\n', ' Manaus')\n",
      "('    20.09 S, 44.36 W\\n', ' Belo Horizonte')\n",
      "('    20.09 S, 54.60 W\\n', ' Campo Grande')\n",
      "('    23.31 S, 42.82 W\\n', ' Rio de Janeiro')\n",
      "('    23.31 S, 46.31 W\\n', ' São Paulo')\n",
      "('    24.92 S, 49.66 W\\n', ' Curitiba')\n",
      "('    29.74 S, 51.69 W\\n', ' Porto Alegre')\n"
     ]
    }
   ],
   "source": [
    "# Executando a função para todos os arquivos da pasta 'dados'.\n",
    "for arquivo in arquivos [0:11]:\n",
    "    info = localidades (arquivo)\n",
    "    print (info)\n",
    "    "
   ]
  },
  {
   "cell_type": "markdown",
   "metadata": {},
   "source": [
    "## Criar uma função que recebe o nome do arquivo de dado como argumento e retorne: um numpy array da temperatura anual estimada, que será a soma da temperatura absoluta estimada (retirar do cabeçalho do arquivo) com a anomalia anual."
   ]
  },
  {
   "cell_type": "code",
   "execution_count": 20,
   "metadata": {
    "collapsed": true
   },
   "outputs": [],
   "source": [
    "# extraindo as informações dos arquivos da pasta 'dados' \n",
    "dados = np.loadtxt (arquivo, comments = '%')"
   ]
  },
  {
   "cell_type": "code",
   "execution_count": 38,
   "metadata": {
    "collapsed": true
   },
   "outputs": [],
   "source": [
    "# Definindo a função.\n",
    "# \"float\" possibilita a conversão de uma string em um número.\n",
    "\n",
    "def temp_anual_estimada (temp):\n",
    "    doc = open (temp)\n",
    "    anomalia_anual = np.nan_to_num (dados [0: ,4])\n",
    "    ler_1 = doc.readlines()\n",
    "    temp_absuluta = ler_1[47].split(sep = ' ')\n",
    "    margem = float (temp_absuluta[-3]) \n",
    "    nmp = np.ones (len(anomalia_anual))\n",
    "    mult = margem * nmp\n",
    "    soma = anomalia_anual + mult\n",
    "    return soma"
   ]
  },
  {
   "cell_type": "code",
   "execution_count": 39,
   "metadata": {
    "collapsed": false
   },
   "outputs": [
    {
     "name": "stdout",
     "output_type": "stream",
     "text": [
      "[ 26.74   26.74   25.636 ...,  26.74   26.74   26.74 ]\n"
     ]
    }
   ],
   "source": [
    "#teste\n",
    "temperatura =  temp_anual_estimada ('./dados/0.80S-49.02W-TAVG-Trend.txt')\n",
    "print(temperatura)"
   ]
  },
  {
   "cell_type": "code",
   "execution_count": 40,
   "metadata": {
    "collapsed": false
   },
   "outputs": [
    {
     "name": "stdout",
     "output_type": "stream",
     "text": [
      "[ 26.74   26.74   25.636 ...,  26.74   26.74   26.74 ]\n",
      "[ 26.15   26.15   25.046 ...,  26.15   26.15   26.15 ]\n",
      "[ 24.87   24.87   23.766 ...,  24.87   24.87   24.87 ]\n",
      "[ 21.91   21.91   20.806 ...,  21.91   21.91   21.91 ]\n",
      "[ 26.72   26.72   25.616 ...,  26.72   26.72   26.72 ]\n",
      "[ 21.26   21.26   20.156 ...,  21.26   21.26   21.26 ]\n",
      "[ 23.68   23.68   22.576 ...,  23.68   23.68   23.68 ]\n",
      "[ 24.01   24.01   22.906 ...,  24.01   24.01   24.01 ]\n",
      "[ 19.9    19.9    18.796 ...,  19.9    19.9    19.9  ]\n",
      "[ 17.6    17.6    16.496 ...,  17.6    17.6    17.6  ]\n",
      "[ 18.41   18.41   17.306 ...,  18.41   18.41   18.41 ]\n"
     ]
    }
   ],
   "source": [
    "for arquivo in arquivos [0:11]:\n",
    "    soma_temp_absl = temp_anual_estimada (arquivo)\n",
    "    print (soma_temp_absl)"
   ]
  },
  {
   "cell_type": "code",
   "execution_count": null,
   "metadata": {
    "collapsed": true
   },
   "outputs": [],
   "source": []
  }
 ],
 "metadata": {
  "anaconda-cloud": {},
  "kernelspec": {
   "display_name": "Python [Root]",
   "language": "python",
   "name": "Python [Root]"
  },
  "language_info": {
   "codemirror_mode": {
    "name": "ipython",
    "version": 3
   },
   "file_extension": ".py",
   "mimetype": "text/x-python",
   "name": "python",
   "nbconvert_exporter": "python",
   "pygments_lexer": "ipython3",
   "version": "3.5.2"
  }
 },
 "nbformat": 4,
 "nbformat_minor": 0
}
