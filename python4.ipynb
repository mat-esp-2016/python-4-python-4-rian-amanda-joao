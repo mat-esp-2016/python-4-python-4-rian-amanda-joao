{
 "cells": [
  {
   "cell_type": "markdown",
   "metadata": {},
   "source": [
    "## Bibliotecas:"
   ]
  },
  {
   "cell_type": "code",
   "execution_count": 40,
   "metadata": {
    "collapsed": true
   },
   "outputs": [],
   "source": [
    "import numpy as np"
   ]
  },
  {
   "cell_type": "code",
   "execution_count": 41,
   "metadata": {
    "collapsed": true
   },
   "outputs": [],
   "source": [
    "import matplotlib.pyplot as plt"
   ]
  },
  {
   "cell_type": "code",
   "execution_count": 42,
   "metadata": {
    "collapsed": true
   },
   "outputs": [],
   "source": [
    "%matplotlib inline"
   ]
  },
  {
   "cell_type": "code",
   "execution_count": 43,
   "metadata": {
    "collapsed": true
   },
   "outputs": [],
   "source": [
    "import glob "
   ]
  },
  {
   "cell_type": "markdown",
   "metadata": {},
   "source": [
    "## Fazer uma função que recebe o nome do arquivo de dado como argumento e retorne: a latitude e longitude da estação; o nome da primeira cidade mais próxima da estação de medida "
   ]
  },
  {
   "cell_type": "code",
   "execution_count": 47,
   "metadata": {
    "collapsed": true
   },
   "outputs": [],
   "source": [
    "# Estraindo os arquivos da pasta 'dados'\n",
    "arquivos = glob.glob(\"dados/*.txt\")"
   ]
  },
  {
   "cell_type": "code",
   "execution_count": 52,
   "metadata": {
    "collapsed": false
   },
   "outputs": [
    {
     "name": "stdout",
     "output_type": "stream",
     "text": [
      "['dados\\\\0.80S-49.02W-TAVG-Trend.txt', 'dados\\\\10.45S-48.27W-TAVG-Trend.txt', 'dados\\\\13.66S-38.81W-TAVG-Trend.txt', 'dados\\\\15.27S-47.50W-TAVG-Trend.txt', 'dados\\\\2.41S-60.27W-TAVG-Trend.txt', 'dados\\\\20.09S-44.36W-TAVG-Trend.txt', 'dados\\\\20.09S-54.60W-TAVG-Trend.txt', 'dados\\\\23.31S-42.82W-TAVG-Trend.txt', 'dados\\\\23.31S-46.31W-TAVG-Trend.txt', 'dados\\\\24.92S-49.66W-TAVG-Trend.txt', 'dados\\\\29.74S-51.69W-TAVG-Trend.txt', 'dados\\\\4.02S-40.98W-TAVG-Trend.txt', 'dados\\\\brazil-TAVG-Trend.txt']\n"
     ]
    }
   ],
   "source": [
    "print (arquivos)"
   ]
  },
  {
   "cell_type": "code",
   "execution_count": 48,
   "metadata": {
    "collapsed": true
   },
   "outputs": [],
   "source": [
    "# Definindo uma função para que ela retorne: latitude, longitude e a cidade mais próxima a estação.\n",
    "# \"UTF-8\" possiblita o print de caracteres especiais.\n",
    "def localidades (nome):\n",
    "    documento  = open(nome, encoding = \"UTF-8\")\n",
    "    ler = documento.readlines()\n",
    "    lat_long = ler [4] [1:]\n",
    "    cidade_prx = ler [35].split(sep = ',')[0][18:]\n",
    "    \n",
    "    return (lat_long, cidade_prx )"
   ]
  },
  {
   "cell_type": "code",
   "execution_count": 55,
   "metadata": {
    "collapsed": false
   },
   "outputs": [
    {
     "name": "stdout",
     "output_type": "stream",
     "text": [
      "('    0.80 S, 49.02 W\\n', ' Belém')\n"
     ]
    }
   ],
   "source": [
    "#teste\n",
    "cidade = localidades ('./dados/0.80S-49.02W-TAVG-Trend.txt')\n",
    "print (cidade)"
   ]
  },
  {
   "cell_type": "code",
   "execution_count": null,
   "metadata": {
    "collapsed": true
   },
   "outputs": [],
   "source": [
    "# Executando a função para todos os arquivos da pasta 'dados'.\n",
    "for arquivo in arquivos [0:11]:\n",
    "    \n",
    "    \n",
    "    \n",
    "    "
   ]
  }
 ],
 "metadata": {
  "anaconda-cloud": {},
  "kernelspec": {
   "display_name": "Python [Root]",
   "language": "python",
   "name": "Python [Root]"
  },
  "language_info": {
   "codemirror_mode": {
    "name": "ipython",
    "version": 3
   },
   "file_extension": ".py",
   "mimetype": "text/x-python",
   "name": "python",
   "nbconvert_exporter": "python",
   "pygments_lexer": "ipython3",
   "version": "3.5.2"
  }
 },
 "nbformat": 4,
 "nbformat_minor": 0
}
